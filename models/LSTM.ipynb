{
 "cells": [
  {
   "cell_type": "markdown",
   "metadata": {
    "colab_type": "text",
    "id": "98kMTYHT1XuX"
   },
   "source": [
    "Library"
   ]
  },
  {
   "cell_type": "code",
   "execution_count": 1,
   "metadata": {
    "colab": {},
    "colab_type": "code",
    "id": "1Xds4ZUHYAI6"
   },
   "outputs": [
    {
     "ename": "ModuleNotFoundError",
     "evalue": "No module named 'pyvi'",
     "output_type": "error",
     "traceback": [
      "\u001b[1;31m---------------------------------------------------------------------------\u001b[0m",
      "\u001b[1;31mModuleNotFoundError\u001b[0m                       Traceback (most recent call last)",
      "\u001b[1;32m<ipython-input-1-f3626d53b32f>\u001b[0m in \u001b[0;36m<module>\u001b[1;34m\u001b[0m\n\u001b[1;32m----> 1\u001b[1;33m \u001b[1;32mfrom\u001b[0m \u001b[0mpyvi\u001b[0m \u001b[1;32mimport\u001b[0m \u001b[0mViTokenizer\u001b[0m\u001b[1;33m,\u001b[0m \u001b[0mViPosTagger\u001b[0m\u001b[1;33m\u001b[0m\u001b[1;33m\u001b[0m\u001b[0m\n\u001b[0m\u001b[0;32m      2\u001b[0m \u001b[1;32mimport\u001b[0m \u001b[0mnumpy\u001b[0m \u001b[1;32mas\u001b[0m \u001b[0mnp\u001b[0m\u001b[1;33m\u001b[0m\u001b[1;33m\u001b[0m\u001b[0m\n\u001b[0;32m      3\u001b[0m \u001b[1;32mimport\u001b[0m \u001b[0mpandas\u001b[0m \u001b[1;32mas\u001b[0m \u001b[0mpd\u001b[0m\u001b[1;33m\u001b[0m\u001b[1;33m\u001b[0m\u001b[0m\n\u001b[0;32m      4\u001b[0m \u001b[1;32mimport\u001b[0m \u001b[0mgensim\u001b[0m\u001b[1;33m\u001b[0m\u001b[1;33m\u001b[0m\u001b[0m\n\u001b[0;32m      5\u001b[0m \u001b[1;32mimport\u001b[0m \u001b[0msklearn\u001b[0m\u001b[1;33m\u001b[0m\u001b[1;33m\u001b[0m\u001b[0m\n",
      "\u001b[1;31mModuleNotFoundError\u001b[0m: No module named 'pyvi'"
     ]
    }
   ],
   "source": [
    "from pyvi import ViTokenizer, ViPosTagger\n",
    "import numpy as np\n",
    "import pandas as pd\n",
    "import gensim\n",
    "import sklearn\n",
    "import tensorflow as tf\n",
    "from sklearn.model_selection import train_test_split\n",
    "from sklearn.decomposition import TruncatedSVD\n",
    "from sklearn.metrics import classification_report\n",
    "from sklearn.feature_extraction.text import TfidfVectorizer\n",
    "from tensorflow.keras.layers import *\n",
    "from keras.layers import *\n",
    "from keras.preprocessing.text import Tokenizer\n",
    "from keras.preprocessing.sequence import pad_sequences\n",
    "\n",
    "from keras.preprocessing import sequence\n",
    "from keras.models import Sequential, Model\n",
    "from keras.layers import Dense, Dropout, Embedding, LSTM, Bidirectional\n",
    "from tensorflow.keras.optimizers import Adam\n",
    "from keras.utils import to_categorical"
   ]
  },
  {
   "cell_type": "markdown",
   "metadata": {
    "colab_type": "text",
    "id": "oe91-HU6YKXC"
   },
   "source": [
    "Data Preparation"
   ]
  },
  {
   "cell_type": "code",
   "execution_count": null,
   "metadata": {
    "colab": {},
    "colab_type": "code",
    "id": "QG_EI7STYM8i"
   },
   "outputs": [],
   "source": [
    "datanewscontent=pd.read_excel(r'path_to_newscontent.xlsx','Sheet1')\n",
    "datacomment=pd.read_excel(r'path_to_comments.xlsx','Sheet1')"
   ]
  },
  {
   "cell_type": "code",
   "execution_count": null,
   "metadata": {
    "colab": {},
    "colab_type": "code",
    "id": "PueKMfKNYJM5"
   },
   "outputs": [],
   "source": [
    "datacmt=[]\n",
    "for d in datacomment['comment']:\n",
    "    e=ViTokenizer.tokenize(str(d))\n",
    "    datacmt.append(e)\n",
    "labelcmt=datacomment['label']"
   ]
  },
  {
   "cell_type": "code",
   "execution_count": null,
   "metadata": {
    "colab": {},
    "colab_type": "code",
    "id": "5iwLE6kTj8fQ"
   },
   "outputs": [],
   "source": [
    "datanews=[]\n",
    "for d in datanewscontent['all_lower']:\n",
    "    e=ViTokenizer.tokenize(str(d))\n",
    "    datanews.append(e)\n",
    "labelnews=datanewscontent['label']"
   ]
  },
  {
   "cell_type": "code",
   "execution_count": null,
   "metadata": {
    "colab": {},
    "colab_type": "code",
    "id": "rWMDeVkV0LwR"
   },
   "outputs": [],
   "source": [
    "def truncatedvectors(data,n_components=300):\n",
    "  svd_ngram = TruncatedSVD(n_components=n_components, random_state=42)\n",
    "  svd_ngram.fit(data)\n",
    "  return svd_ngram.transform(data)"
   ]
  },
  {
   "cell_type": "markdown",
   "metadata": {
    "colab_type": "text",
    "id": "go30TYZAYWZy"
   },
   "source": [
    "Word2Vec"
   ]
  },
  {
   "cell_type": "code",
   "execution_count": null,
   "metadata": {
    "colab": {},
    "colab_type": "code",
    "id": "sRlyTezBYOkj"
   },
   "outputs": [],
   "source": [
    "from gensim.models import Word2Vec,KeyedVectors \n",
    "import os\n",
    "word2vec_model_path =\"path_to_wikivimodel.bin\"\n",
    "model = KeyedVectors.load_word2vec_format(word2vec_model_path,binary=True, unicode_errors='ignore')\n",
    "vocab = model.wv.vocab\n",
    "wv = model.wv"
   ]
  },
  {
   "cell_type": "code",
   "execution_count": null,
   "metadata": {
    "colab": {},
    "colab_type": "code",
    "id": "UyYQobJsNupy"
   },
   "outputs": [],
   "source": [
    "def get_word2vec_data(X):\n",
    "    word2vec_data = []\n",
    "    for x in X:\n",
    "        sentence = []\n",
    "        for word in x.split(\" \"):\n",
    "            if word in vocab:\n",
    "              sentence=sentence+wv[word].ravel().tolist()\n",
    "        word2vec_data.append(sentence)\n",
    "\n",
    "    return word2vec_data\n",
    "def change_to_word2vec(data):\n",
    "  data2vec=get_word2vec_data(data)\n",
    "  lengthOfdata=[len(data2vec[i]) for i,n in enumerate(data2vec)]\n",
    "  for i,n in enumerate(data):\n",
    "    if(len(data2vec[i])<max(lengthOfdata)):\n",
    "      for j in range(1,(max(lengthOfdata)-len(data2vec[i]))+1):\n",
    "        data2vec[i].append(0)\n",
    "  return truncatedvectors(np.array(data2vec))"
   ]
  },
  {
   "cell_type": "code",
   "execution_count": null,
   "metadata": {
    "colab": {},
    "colab_type": "code",
    "id": "7HcprRIKNyKX"
   },
   "outputs": [],
   "source": [
    "X_data_w2v_cmt=change_to_word2vec(datacmt)\n",
    "X_data_w2v_news=change_to_word2vec(datanews)"
   ]
  },
  {
   "cell_type": "markdown",
   "metadata": {
    "colab_type": "text",
    "id": "I1Ik7LvtNqqf"
   },
   "source": [
    "TF-IDF"
   ]
  },
  {
   "cell_type": "code",
   "execution_count": null,
   "metadata": {
    "colab": {},
    "colab_type": "code",
    "id": "MKVZl4PfNsGz"
   },
   "outputs": [],
   "source": [
    "def tfidf(data):\n",
    "  tfidf_vect_ngram = TfidfVectorizer(analyzer='word', max_features=30000, ngram_range=(1, 2))\n",
    "  tfidf_vect_ngram.fit(data)\n",
    "  X_data_tfidf_ngram =  tfidf_vect_ngram.transform(data)\n",
    "  return truncatedvectors(X_data_tfidf_ngram)"
   ]
  },
  {
   "cell_type": "code",
   "execution_count": null,
   "metadata": {
    "colab": {},
    "colab_type": "code",
    "id": "U3_r6g-H0R5G"
   },
   "outputs": [],
   "source": [
    "X_data_tfidf_cmt=tfidf(datacmt)\n",
    "X_data_tfidf_news=tfidf(datanews)"
   ]
  },
  {
   "cell_type": "markdown",
   "metadata": {
    "colab_type": "text",
    "id": "SYNrb3eoOGFP"
   },
   "source": [
    "Bag of words"
   ]
  },
  {
   "cell_type": "code",
   "execution_count": null,
   "metadata": {
    "colab": {},
    "colab_type": "code",
    "id": "1Hdw-F11OHz4"
   },
   "outputs": [],
   "source": [
    "def bow(data):\n",
    "  tokenizer = Tokenizer()\n",
    "  tokenizer.fit_on_texts(dataall)\n",
    "  datacmtbow = tokenizer.texts_to_sequences(data)\n",
    "  datacmtbow= pad_sequences(datacmtbow, maxlen=300)\n",
    "  return datacmtbow"
   ]
  },
  {
   "cell_type": "code",
   "execution_count": null,
   "metadata": {
    "colab": {},
    "colab_type": "code",
    "id": "SKsJt9F80WT_"
   },
   "outputs": [],
   "source": [
    "X_data_bow_cmt=bow(datacmt)\n",
    "X_data_bow_news=bow(datanews)"
   ]
  },
  {
   "cell_type": "markdown",
   "metadata": {
    "colab_type": "text",
    "id": "qQQKE-giTDbd"
   },
   "source": [
    "LSTM Model"
   ]
  },
  {
   "cell_type": "code",
   "execution_count": null,
   "metadata": {
    "colab": {},
    "colab_type": "code",
    "id": "c80buTPvN_AK"
   },
   "outputs": [],
   "source": [
    "#Change: [X_data_tfidf_cmt,  X_data_w2v_cmt, X_data_bow_cmt],labelcmt , [X_data_tfidf_news,X_data_bow_news,X_data_w2v_news], labelnews\n",
    "X_train, X_val, y_train, y_val = train_test_split(X_data_tfidf_cmt, labelcmt, test_size=0.2, random_state=42)"
   ]
  },
  {
   "cell_type": "code",
   "execution_count": null,
   "metadata": {
    "colab": {},
    "colab_type": "code",
    "id": "Yj72P0RAMZAI"
   },
   "outputs": [],
   "source": [
    "#learning_rate: [1e-5,5e-5,1e-4,5e-4,1e-3,5e-3]\n",
    "opt = Adam(lr=0.001)\n",
    "def create_lstm_model():\n",
    "    input_layer = Input(shape=(300,))\n",
    "    layer = Reshape((10, 30,))(input_layer)\n",
    "    layer = LSTM(128, activation='relu',dropout=0.5, recurrent_dropout=0.5)(layer)\n",
    "    layer = Dense(64, activation='relu')(layer)\n",
    "    layer = Dense(32, activation='relu')(layer)\n",
    "    output_layer = Dense(3, activation='softmax')(layer)\n",
    "    classifier = Model(input_layer, output_layer)\n",
    "    classifier.compile(optimizer=opt, loss='categorical_crossentropy', metrics=['accuracy'])\n",
    "    return classifier"
   ]
  },
  {
   "cell_type": "code",
   "execution_count": null,
   "metadata": {
    "colab": {},
    "colab_type": "code",
    "id": "DFaWc5hFMfYX"
   },
   "outputs": [],
   "source": [
    "y_train_lstm_encode = to_categorical(y_train_lstm)\n",
    "y_val_lstm_encode=to_categorical(y_val_lstm)\n",
    "classifier = create_lstm_model()\n",
    "classifier.fit(x_train_lstm, y_train_lstm_encode, validation_data=(x_val_lstm, y_val_lstm_encode), epochs=200, batch_size=32)\n",
    "#change different epoch and batch_size"
   ]
  },
  {
   "cell_type": "code",
   "execution_count": null,
   "metadata": {
    "colab": {},
    "colab_type": "code",
    "id": "Kyz8ERVQPRLd"
   },
   "outputs": [],
   "source": [
    "y_pred = classifier.predict(x_val_lstm, batch_size=32, verbose=1)\n",
    "y_pred_bool = np.argmax(y_pred, axis=1)\n",
    "print(classification_report(y_val_lstm, y_pred_bool))"
   ]
  }
 ],
 "metadata": {
  "accelerator": "TPU",
  "colab": {
   "collapsed_sections": [],
   "name": "LSTM.ipynb",
   "provenance": []
  },
  "kernelspec": {
   "display_name": "Python 3",
   "language": "python",
   "name": "python3"
  },
  "language_info": {
   "codemirror_mode": {
    "name": "ipython",
    "version": 3
   },
   "file_extension": ".py",
   "mimetype": "text/x-python",
   "name": "python",
   "nbconvert_exporter": "python",
   "pygments_lexer": "ipython3",
   "version": "3.7.4"
  }
 },
 "nbformat": 4,
 "nbformat_minor": 1
}

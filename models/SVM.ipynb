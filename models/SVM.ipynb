{
  "nbformat": 4,
  "nbformat_minor": 0,
  "metadata": {
    "colab": {
      "name": "SVM.ipynb",
      "provenance": [],
      "collapsed_sections": []
    },
    "kernelspec": {
      "name": "python3",
      "display_name": "Python 3"
    },
    "accelerator": "GPU"
  },
  "cells": [
    {
      "cell_type": "markdown",
      "metadata": {
        "id": "4pZrvgxejKwq",
        "colab_type": "text"
      },
      "source": [
        "Library"
      ]
    },
    {
      "cell_type": "code",
      "metadata": {
        "id": "qkeIboKD_Brh",
        "colab_type": "code",
        "outputId": "764f299b-1766-4fee-d9a8-c31e3710cf76",
        "colab": {
          "base_uri": "https://localhost:8080/",
          "height": 80
        }
      },
      "source": [
        "from pyvi import ViTokenizer, ViPosTagger\n",
        "import numpy as np\n",
        "import pandas as pd\n",
        "import gensim\n",
        "import sklearn\n",
        "import tensorflow as tf\n",
        "from sklearn import svm\n",
        "from sklearn.model_selection import train_test_split\n",
        "from sklearn.decomposition import TruncatedSVD\n",
        "from sklearn.metrics import classification_report\n",
        "from sklearn.feature_extraction.text import TfidfVectorizer\n",
        "from tensorflow.keras.layers import *\n",
        "from keras.layers import *\n",
        "from keras.preprocessing.text import Tokenizer\n",
        "from keras.models import Model\n",
        "from keras.metrics import sparse_categorical_accuracy\n",
        "from tensorflow.keras.optimizers import Adam"
      ],
      "execution_count": 0,
      "outputs": [
        {
          "output_type": "display_data",
          "data": {
            "text/html": [
              "<p style=\"color: red;\">\n",
              "The default version of TensorFlow in Colab will soon switch to TensorFlow 2.x.<br>\n",
              "We recommend you <a href=\"https://www.tensorflow.org/guide/migrate\" target=\"_blank\">upgrade</a> now \n",
              "or ensure your notebook will continue to use TensorFlow 1.x via the <code>%tensorflow_version 1.x</code> magic:\n",
              "<a href=\"https://colab.research.google.com/notebooks/tensorflow_version.ipynb\" target=\"_blank\">more info</a>.</p>\n"
            ],
            "text/plain": [
              "<IPython.core.display.HTML object>"
            ]
          },
          "metadata": {
            "tags": []
          }
        },
        {
          "output_type": "stream",
          "text": [
            "Using TensorFlow backend.\n"
          ],
          "name": "stderr"
        }
      ]
    },
    {
      "cell_type": "markdown",
      "metadata": {
        "id": "c1qO4CypjNIx",
        "colab_type": "text"
      },
      "source": [
        "Data Preparation"
      ]
    },
    {
      "cell_type": "code",
      "metadata": {
        "id": "8XzCfLBJ_Ddx",
        "colab_type": "code",
        "colab": {}
      },
      "source": [
        "datanewscontent=pd.read_excel(r'path_to_newscontent.xlsx','Sheet1')\n",
        "datacomment=pd.read_excel(r'path_to_comments.xlsx','Sheet1')"
      ],
      "execution_count": 0,
      "outputs": []
    },
    {
      "cell_type": "code",
      "metadata": {
        "id": "D7lxU-5pAsb2",
        "colab_type": "code",
        "colab": {}
      },
      "source": [
        "datacmt=[]\n",
        "for d in datacomment['comment']:\n",
        "    e=ViTokenizer.tokenize(str(d))\n",
        "    datacmt.append(e)\n",
        "labelcmt=datacomment['label']"
      ],
      "execution_count": 0,
      "outputs": []
    },
    {
      "cell_type": "code",
      "metadata": {
        "id": "vCboT9MKhmKk",
        "colab_type": "code",
        "colab": {}
      },
      "source": [
        "datanews=[]\n",
        "for d in datanewscontent['all_lower']:\n",
        "    e=ViTokenizer.tokenize(str(d))\n",
        "    datanews.append(e)\n",
        "labelnews=datanewscontent['label']"
      ],
      "execution_count": 0,
      "outputs": []
    },
    {
      "cell_type": "code",
      "metadata": {
        "id": "JQWucZTmv333",
        "colab_type": "code",
        "colab": {}
      },
      "source": [
        "def truncatedvectors(data,n_components=300):\n",
        "  svd_ngram = TruncatedSVD(n_components=n_components, random_state=42)\n",
        "  svd_ngram.fit(data)\n",
        "  return svd_ngram.transform(data)"
      ],
      "execution_count": 0,
      "outputs": []
    },
    {
      "cell_type": "markdown",
      "metadata": {
        "id": "HHwK_3DvjQ8o",
        "colab_type": "text"
      },
      "source": [
        "TF-IDF"
      ]
    },
    {
      "cell_type": "code",
      "metadata": {
        "id": "98FV-2uuAt4O",
        "colab_type": "code",
        "colab": {}
      },
      "source": [
        "def tfidf(data):\n",
        "  tfidf_vect_ngram = TfidfVectorizer(analyzer='word', max_features=30000, ngram_range=(1, 2))\n",
        "  tfidf_vect_ngram.fit(data)\n",
        "  X_data_tfidf_ngram =  tfidf_vect_ngram.transform(data)\n",
        "  return truncatedvectors(X_data_tfidf_ngram)"
      ],
      "execution_count": 0,
      "outputs": []
    },
    {
      "cell_type": "code",
      "metadata": {
        "id": "X5bph6DIA-9t",
        "colab_type": "code",
        "colab": {}
      },
      "source": [
        "X_data_tfidf_cmt=tfidf(datacmt)\n",
        "X_data_tfidf_news=tfidf(datanews)"
      ],
      "execution_count": 0,
      "outputs": []
    },
    {
      "cell_type": "markdown",
      "metadata": {
        "id": "X_RzuvwIaA3Y",
        "colab_type": "text"
      },
      "source": [
        "Word2vec"
      ]
    },
    {
      "cell_type": "code",
      "metadata": {
        "id": "dTkV84SNaB3G",
        "colab_type": "code",
        "colab": {}
      },
      "source": [
        "from gensim.models import Word2Vec,KeyedVectors \n",
        "import os\n",
        "word2vec_model_path =\"path_to_wikivimodel.bin\"\n",
        "model = KeyedVectors.load_word2vec_format(word2vec_model_path,binary=True, unicode_errors='ignore')\n",
        "vocab = model.wv.vocab\n",
        "wv = model.wv"
      ],
      "execution_count": 0,
      "outputs": []
    },
    {
      "cell_type": "code",
      "metadata": {
        "id": "lv_1AVxiaDzW",
        "colab_type": "code",
        "colab": {}
      },
      "source": [
        "def get_word2vec_data(X):\n",
        "    word2vec_data = []\n",
        "    for x in X:\n",
        "        sentence = []\n",
        "        for word in x.split(\" \"):\n",
        "            if word in vocab:\n",
        "              sentence=sentence+wv[word].ravel().tolist()\n",
        "        word2vec_data.append(sentence)\n",
        "\n",
        "    return word2vec_data\n",
        "def change_to_word2vec(data):\n",
        "  data2vec=get_word2vec_data(data)\n",
        "  lengthOfdata=[len(data2vec[i]) for i,n in enumerate(data2vec)]\n",
        "  for i,n in enumerate(data):\n",
        "    if(len(data2vec[i])<max(lengthOfdata)):\n",
        "      for j in range(1,(max(lengthOfdata)-len(data2vec[i]))+1):\n",
        "        data2vec[i].append(0)\n",
        "  return truncatedvectors(np.array(data2vec))"
      ],
      "execution_count": 0,
      "outputs": []
    },
    {
      "cell_type": "code",
      "metadata": {
        "id": "W3JrnjMtaFaG",
        "colab_type": "code",
        "colab": {}
      },
      "source": [
        "X_data_w2v_cmt=change_to_word2vec(datacmt)\n",
        "X_data_w2v_news=change_to_word2vec(datanews)"
      ],
      "execution_count": 0,
      "outputs": []
    },
    {
      "cell_type": "markdown",
      "metadata": {
        "id": "QNBxOuNgx9EF",
        "colab_type": "text"
      },
      "source": [
        "Bag Of Words"
      ]
    },
    {
      "cell_type": "code",
      "metadata": {
        "id": "Jle1f2eAx8gG",
        "colab_type": "code",
        "colab": {}
      },
      "source": [
        "def bow(data):\n",
        "  tokenizer = Tokenizer()\n",
        "  tokenizer.fit_on_texts(dataall)\n",
        "  datacmtbow = tokenizer.texts_to_sequences(data)\n",
        "  datacmtbow= pad_sequences(datacmtbow, maxlen=300)\n",
        "  return datacmtbow"
      ],
      "execution_count": 0,
      "outputs": []
    },
    {
      "cell_type": "code",
      "metadata": {
        "id": "jInxxQ4wyUTN",
        "colab_type": "code",
        "colab": {}
      },
      "source": [
        "X_data_bow_cmt=bow(datacmt)\n",
        "X_data_bow_news=bow(datanews)"
      ],
      "execution_count": 0,
      "outputs": []
    },
    {
      "cell_type": "markdown",
      "metadata": {
        "id": "qWaLwigDjTed",
        "colab_type": "text"
      },
      "source": [
        "SVM"
      ]
    },
    {
      "cell_type": "code",
      "metadata": {
        "id": "ooWdz03QbC7m",
        "colab_type": "code",
        "colab": {}
      },
      "source": [
        "#Change: [X_data_tfidf_cmt,  X_data_w2v_cmt, X_data_bow_cmt],labelcmt , [X_data_tfidf_news,X_data_bow_news,X_data_w2v_news], labelnews\n",
        "X_train, X_val, y_train, y_val = train_test_split(X_data_tfidf_cmt, labelcmt, test_size=0.2, random_state=42)"
      ],
      "execution_count": 0,
      "outputs": []
    },
    {
      "cell_type": "code",
      "metadata": {
        "id": "yQ_mz_KUBDe2",
        "colab_type": "code",
        "colab": {}
      },
      "source": [
        "#kernel:linear, rbf\n",
        "#gamma: [1e-3,5e-3,1e-2,5e-2,1e-1,5e-1,1e]\n",
        "#C: [1,10,100,1000]\n",
        "#You can change this parameters to have the best answer\n",
        "clf=svm.SVC(kernel='linear',C=1000)\n",
        "clf.fit(X_train, y_train)\n",
        "val_predictions = clf.predict(X_val)\n",
        "print(classification_report(val_predictions, y_val))"
      ],
      "execution_count": 0,
      "outputs": []
    }
  ]
}